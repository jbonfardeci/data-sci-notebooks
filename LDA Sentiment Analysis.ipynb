{
 "cells": [
  {
   "cell_type": "code",
   "execution_count": 1,
   "metadata": {
    "collapsed": true
   },
   "outputs": [],
   "source": [
    "import pandas as pd\n",
    "import re\n",
    "from sklearn.feature_extraction import FeatureHasher\n",
    "from sklearn.discriminant_analysis import LinearDiscriminantAnalysis as LDA\n",
    "import math\n",
    "from sklearn.metrics import roc_curve, auc\n",
    "import matplotlib.pyplot as plt\n",
    "from sklearn.model_selection import train_test_split\n",
    "import numpy as np\n",
    "from time import time"
   ]
  },
  {
   "cell_type": "code",
   "execution_count": 2,
   "metadata": {
    "collapsed": true
   },
   "outputs": [],
   "source": [
    "def get_cm(dat):\n",
    "    vals = dat.values.tolist()\n",
    "    dat['TP'] = list(map(lambda y: 1 if y[0] == y[1] and y[0] == True else 0, vals))\n",
    "    dat['TN'] = list(map(lambda y: 1 if y[0] == y[1] and y[0] == False else 0, vals))\n",
    "    dat['FP'] = list(map(lambda y: 1 if y[0] != y[1] and y[0] == False else 0, vals))\n",
    "    dat['FN'] = list(map(lambda y: 1 if y[0] != y[1] and y[0] == True else 0, vals))\n",
    "    tp = sum(dat['TP'])\n",
    "    tn = sum(dat['TN'])\n",
    "    fp = sum(dat['FP'])\n",
    "    fn = sum(dat['FN'])\n",
    "    tpr = tp/(tp+fn)\n",
    "    tnr = tn/(tn+fp)\n",
    "    stats = pd.DataFrame(columns=['TP', 'FP', 'TN', 'FN', 'Sensitivity', 'Specificity'],\n",
    "                data=[[tp, fp, tn, fn, tpr, tnr]])\n",
    "    return stats\n",
    "\n",
    "def get_ba(dat):\n",
    "    cm = get_cm(dat).values.tolist()[0]\n",
    "    sens = float(cm[4])\n",
    "    spec = float(cm[5])\n",
    "    return (sens+spec)/2\n",
    "\n",
    "def get_roc(actual, predicted, title=\"ROC\"):\n",
    "    \"\"\"\n",
    "    Plot ROC curve based on actuals and estimated probabilities.\n",
    "    \"\"\"\n",
    "    fpr, tpr, threshold = roc_curve(actual, predicted)    \n",
    "    roc_auc = auc(fpr, tpr)\n",
    "    plt.title(title)\n",
    "    lbl = 'AUC: {0:.3f}'.format(roc_auc)\n",
    "    plt.plot(fpr, tpr, 'b', label = lbl)\n",
    "    plt.legend(loc = 'lower right')\n",
    "    plt.plot([0, 1], [0, 1],'r--')\n",
    "    plt.xlim([0, 1])\n",
    "    plt.ylim([0, 1])\n",
    "    plt.ylabel('True Positive Rate')\n",
    "    plt.xlabel('False Positive Rate')\n",
    "    plt.show()  \n",
    "    \n",
    "def hash_features(matrix, n_features, column_name='Hash'):\n",
    "    hasher = FeatureHasher(n_features=n_features)\n",
    "    hash_vector = hasher.transform(matrix)\n",
    "    hashed = hash_vector.toarray()\n",
    "    cols = []\n",
    "    for i in range(len(hashed[0])):\n",
    "        cols.append(column_name+str(i))\n",
    "\n",
    "    return pd.DataFrame(columns=cols, data=hashed)\n",
    "\n",
    "def fit_lda(df, target='Score', n_components=3):\n",
    "    train = df.sample(frac=0.7, random_state=123) #random state is a seed value\n",
    "    test = df.drop(train.index)\n",
    "\n",
    "    train_X = train.drop(target, 1).values\n",
    "    train_y = train[target].values\n",
    "\n",
    "    test_X = test.drop(target, 1).values\n",
    "    test_y = test[target].values\n",
    "    \n",
    "    try:\n",
    "        lda = LDA(n_components=n_components)\n",
    "        lda_fit = lda.fit(train_X, train_y)\n",
    "        return lda_fit.score(test_X, test_y)\n",
    "\n",
    "    except:\n",
    "        return 0\n",
    "    \n",
    "def clean(s):\n",
    "        s = s.lower()\n",
    "        s = re.sub(\"^\\@\\w+\\s+\", \"\", s) # remove tweeter name (e.g. \"@elephantbird \")\n",
    "        s = re.sub(\"(^\\s+|\\s+$)\", \"\", s) # trim leading/trailing spaces\n",
    "        s = re.sub(\"[^a-z]\", \" \", s) # remove all but letters and spaces\n",
    "        return s\n",
    "        \n"
   ]
  },
  {
   "cell_type": "code",
   "execution_count": 3,
   "metadata": {
    "collapsed": true
   },
   "outputs": [],
   "source": [
    "data_dir = \"C:\\\\Users\\\\bonfardeci-j\\\\Documents\\\\DL\\\\Data Science Group Study\\\\data\\\\\"\n",
    "filepath = data_dir+\"twitter_dataset.csv\"\n",
    "imdb = data_dir+\"imdb_sentiment.csv\""
   ]
  },
  {
   "cell_type": "code",
   "execution_count": 4,
   "metadata": {},
   "outputs": [
    {
     "data": {
      "text/html": [
       "<div>\n",
       "<table border=\"1\" class=\"dataframe\">\n",
       "  <thead>\n",
       "    <tr style=\"text-align: right;\">\n",
       "      <th></th>\n",
       "      <th>sentiment_label</th>\n",
       "      <th>tweet_text</th>\n",
       "    </tr>\n",
       "  </thead>\n",
       "  <tbody>\n",
       "    <tr>\n",
       "      <th>0</th>\n",
       "      <td>4</td>\n",
       "      <td>@elephantbird Hey dear, Happy Friday to You  A...</td>\n",
       "    </tr>\n",
       "    <tr>\n",
       "      <th>1</th>\n",
       "      <td>4</td>\n",
       "      <td>Ughhh layin downnnn    Waiting for zeina to co...</td>\n",
       "    </tr>\n",
       "    <tr>\n",
       "      <th>2</th>\n",
       "      <td>0</td>\n",
       "      <td>@greeniebach I reckon he'll play, even if he's...</td>\n",
       "    </tr>\n",
       "    <tr>\n",
       "      <th>3</th>\n",
       "      <td>0</td>\n",
       "      <td>@vaLewee I know!  Saw it on the news!</td>\n",
       "    </tr>\n",
       "    <tr>\n",
       "      <th>4</th>\n",
       "      <td>0</td>\n",
       "      <td>very sad that http://www.fabchannel.com/ has c...</td>\n",
       "    </tr>\n",
       "  </tbody>\n",
       "</table>\n",
       "</div>"
      ],
      "text/plain": [
       "   sentiment_label                                         tweet_text\n",
       "0                4  @elephantbird Hey dear, Happy Friday to You  A...\n",
       "1                4  Ughhh layin downnnn    Waiting for zeina to co...\n",
       "2                0  @greeniebach I reckon he'll play, even if he's...\n",
       "3                0              @vaLewee I know!  Saw it on the news!\n",
       "4                0  very sad that http://www.fabchannel.com/ has c..."
      ]
     },
     "execution_count": 4,
     "metadata": {},
     "output_type": "execute_result"
    }
   ],
   "source": [
    "df = pd.read_csv(filepath)\n",
    "df.head()"
   ]
  },
  {
   "cell_type": "code",
   "execution_count": 5,
   "metadata": {},
   "outputs": [
    {
     "data": {
      "text/html": [
       "<div>\n",
       "<table border=\"1\" class=\"dataframe\">\n",
       "  <thead>\n",
       "    <tr style=\"text-align: right;\">\n",
       "      <th></th>\n",
       "      <th>sentiment_label</th>\n",
       "      <th>tweet_text</th>\n",
       "    </tr>\n",
       "  </thead>\n",
       "  <tbody>\n",
       "    <tr>\n",
       "      <th>0</th>\n",
       "      <td>4</td>\n",
       "      <td>hey dear  happy friday to you  already had you...</td>\n",
       "    </tr>\n",
       "    <tr>\n",
       "      <th>1</th>\n",
       "      <td>4</td>\n",
       "      <td>ughhh layin downnnn    waiting for zeina to co...</td>\n",
       "    </tr>\n",
       "    <tr>\n",
       "      <th>2</th>\n",
       "      <td>0</td>\n",
       "      <td>i reckon he ll play  even if he s not        b...</td>\n",
       "    </tr>\n",
       "    <tr>\n",
       "      <th>3</th>\n",
       "      <td>0</td>\n",
       "      <td>i know   saw it on the news</td>\n",
       "    </tr>\n",
       "    <tr>\n",
       "      <th>4</th>\n",
       "      <td>0</td>\n",
       "      <td>very sad that http   www fabchannel com  has c...</td>\n",
       "    </tr>\n",
       "  </tbody>\n",
       "</table>\n",
       "</div>"
      ],
      "text/plain": [
       "   sentiment_label                                         tweet_text\n",
       "0                4  hey dear  happy friday to you  already had you...\n",
       "1                4  ughhh layin downnnn    waiting for zeina to co...\n",
       "2                0  i reckon he ll play  even if he s not        b...\n",
       "3                0                       i know   saw it on the news \n",
       "4                0  very sad that http   www fabchannel com  has c..."
      ]
     },
     "execution_count": 5,
     "metadata": {},
     "output_type": "execute_result"
    }
   ],
   "source": [
    "col_name = \"tweet_text\"\n",
    "target_col = \"sentiment_label\"\n",
    "# Replace punctuation, special characters and digits with space\n",
    "sentiment = df[col_name].values\n",
    "df[col_name] = list( map(clean, sentiment) )\n",
    "df.head()"
   ]
  },
  {
   "cell_type": "code",
   "execution_count": 45,
   "metadata": {},
   "outputs": [
    {
     "name": "stdout",
     "output_type": "stream",
     "text": [
      "0.508395833333 50 0.0015580408573150635\n",
      "0.508395833333 50\n"
     ]
    }
   ],
   "source": [
    "# Find optimal number of feature hashes for highest balanced accuracy\n",
    "matrix = list( map(lambda review: {'tweet_text': review}, df[col_name].values) )\n",
    "\n",
    "best_ba = 0\n",
    "optimal_n_features = 0\n",
    "max_features = 500\n",
    "\n",
    "start = time()\n",
    "\n",
    "for i in range(50, max_features, 50):\n",
    "    hash_df = pd.concat([df, hash_features(matrix=matrix, n_features=i, column_name=col_name)], 1).drop(col_name, 1)\n",
    "    hash_df = hash_df.dropna()\n",
    "    ba = fit_lda(hash_df, target_col)\n",
    "    \n",
    "    if(ba > best_ba):\n",
    "        best_ba = ba\n",
    "        optimal_n_features = i   \n",
    "        print(ba, optimal_n_features, (time() - start)/1000.00)\n",
    "    \n",
    "\n",
    "print(best_ba, optimal_n_features) #"
   ]
  },
  {
   "cell_type": "code",
   "execution_count": 35,
   "metadata": {
    "collapsed": true
   },
   "outputs": [],
   "source": [
    "hash_df = pd.concat([df, hash_features(matrix=matrix, n_features=optimal_n_features, column_name=col_name)], 1)\n",
    "hash_df = hash_df.dropna()\n",
    "hash_df.to_csv(data_dir+\"twitter_sentiment_hash_opt.csv\")"
   ]
  }
 ],
 "metadata": {
  "kernelspec": {
   "display_name": "Python [default]",
   "language": "python",
   "name": "python3"
  },
  "language_info": {
   "codemirror_mode": {
    "name": "ipython",
    "version": 3
   },
   "file_extension": ".py",
   "mimetype": "text/x-python",
   "name": "python",
   "nbconvert_exporter": "python",
   "pygments_lexer": "ipython3",
   "version": "3.5.2"
  }
 },
 "nbformat": 4,
 "nbformat_minor": 1
}
